{
 "cells": [
  {
   "cell_type": "markdown",
   "metadata": {},
   "source": [
    "## Las funciones del módulo del teclado  \n",
    "\n",
    "keyboard.write(message, [delay])- escribe un mensaje , con o sin retraso.  \n",
    "\n",
    "keyboard.wait(key)- bloquea el programa hasta keyque se pulsa . keyse pasa como una cadena ( ' espacio', 'esc', etc. )  \n",
    "\n",
    "keyboard.press(key)- presiona una tecla y la mantiene presionada hasta release(key)que se llama a la función.  \n",
    "\n",
    "keyboard.release(key)- suelta una tecla.  \n",
    "\n",
    "keyboard.send(key)- presiona y suelta una tecla.    \n",
    "\n",
    "keyboard.add_hotkey(hotkey, function)- crea un hotkeyque cuando se presiona, ejecuta un function.  \n",
    "\n",
    "keyboard.record(key)- registra la actividad del teclado hasta keyque se presiona.  \n",
    "\n",
    "keyboard.play(recorded_events, [speed_factor])- reproduce eventos grabados con keyboard.record(key)la función, con un opcional speed_factor.\n"
   ]
  },
  {
   "cell_type": "code",
   "execution_count": null,
   "metadata": {},
   "outputs": [],
   "source": [
    "import keyboard as ky\n",
    "\n",
    "#Basico\n",
    "ky.write(\"programando\", delay=0.5)        #Escribe - Tomate tu tiempo\n",
    "ky.write(\"Hola\")                          #Escribe - instantaneo\n",
    "\n",
    "ky.send('windows+d, windows+r')               #Ejecuta - Shortcut\n",
    "ky.press_and_release('windows+d, windows+r')  #Ejecuta - Shortcut\n",
    "\n",
    "ky.wait('esc')                                #Pausa hasta que [tecla] sea ejecutada\n",
    "\n",
    "#Basico Especial - hotkey \n",
    "ky.add_hotkey('a',     lambda: ky.write('Geek',delay=0.5))      #Comando Disparador: Ejecuta Codigo-Funcion\n",
    "ky.add_hotkey('space', lambda: print('space was pressed!'))    \n",
    "ky.add_hotkey('space', print, args=['space was pressed'])\n",
    "\n",
    "ky.remove_hotkey('space')                                             #Comando Disparador: Eliminado\n",
    "\n",
    "#Grabadora\n",
    "rk = ky.record(until ='Esc')          #Grabara hasta precionar Esc\n",
    "\n",
    "ky.play(rk, speed_factor = 1)         #Reproduce Grabacion \n",
    "\n",
    "\n",
    "ky.add_abbreviation('@@', 'my.long.email@example.com')            # Type @@ then press Espacio to replace with abbreviation.\n",
    "input('Press enter to continue...')             #Dejate mensajes\n"
   ]
  },
  {
   "cell_type": "code",
   "execution_count": null,
   "metadata": {},
   "outputs": [],
   "source": [
    "## Ejemplo\n",
    "\n",
    "import keyboard\n",
    " \n",
    "print(0)\n",
    "keyboard.wait('a')       #Paraliza hasta presionar la tecla especifica\n",
    "print(1)\n",
    "keyboard.wait('b')       #Paraliza hasta presionar la tecla especifica\n",
    "print(2)\n",
    "keyboard.wait('c')       #Paraliza hasta presionar la tecla especifica\n",
    "print(3)\n"
   ]
  },
  {
   "attachments": {},
   "cell_type": "markdown",
   "metadata": {},
   "source": [
    "## Basico"
   ]
  },
  {
   "cell_type": "code",
   "execution_count": null,
   "metadata": {},
   "outputs": [],
   "source": [
    "import keyboard as ky\n",
    "\n",
    "# Comandos básicos\n",
    "ky.press('a')                   # Pulsa\n",
    "ky.release('a')                 # Suelta\n",
    "ky.press_and_release('a')       # Recomendado\n",
    "\n",
    "ky.write( 'Hola mundo')         # Imprime\n",
    "ky.write( 'Hola', delay=0.5)    # Imprime + time\n",
    "ky.type(  'PalabraCompleja')    # Recomendado\n",
    "\n",
    "# Crea Shortcut + Funcion\n",
    "ky.add_hotkey('ctrl+shift+a', callback, suppress=True)\n",
    "ky.remove_hotkey('ctrl+shift+a')\n",
    "\n",
    "# Booleanos\n",
    "ky.is_pressed('a')                  # Tecla presionada\n",
    "ky.is_pressed('shift+a')            # Shortcut Presionada\n",
    "ky.is_modifiers_active('shift+a')   # Shortcut Presionada\n",
    "\n",
    "\n",
    "# Pausa\n",
    "ky.wait('esc')      # Pausa Hasta Precionar 'esc'\n",
    "ky.wait('shift+a')  # Pausa Hasta Precionar 'shift+a'\n",
    "\n",
    "# Array\n",
    "ky.get_all_modifiers()  # ['shift', 'ctrl', 'alt', 'win']\n",
    "ky.get_all_keys()       # [ a', 'b', 'C', ...]\n",
    "ky.get_modifiers()      # Actualmente presionada\n",
    "\n",
    "#---\n",
    "\n",
    "# Grabadora - Similar a Keylogger\n",
    "rk = ky.record(until='esc')     # Graba hasta poner 'esc'\n",
    "ky.play(rk, speed_factor = 1)   # Reproduce Grabacion\n",
    "\n",
    "# Abreviacion y Expansion\n",
    "ky.add_abbreviation( '@@', 'my. long .email@example.com')\n",
    "\n",
    "#---\n",
    "\n",
    "# Bloque la tecla 'a'\n",
    "ky.block_key('a')\n",
    "# desbloquea la tecla 'a'\n",
    "ky.unblock_key('a')\n",
    "# deshabilitar Hotkeys - Shortcut\n",
    "ky.disable_hotkeys()\n",
    "# Habilitar Hotkeys - Shortcut\n",
    "ky.enable_hotkeys()"
   ]
  },
  {
   "cell_type": "markdown",
   "metadata": {},
   "source": [
    "### Verificador Sin Bucle "
   ]
  },
  {
   "cell_type": "code",
   "execution_count": null,
   "metadata": {},
   "outputs": [],
   "source": [
    "import keyboard as ky\n",
    "\n",
    "#Para Condicionales\n",
    "while True:\n",
    "     key = ky.read_key()\n",
    "     if key == 'esc':\n",
    "         break\n",
    "\n",
    "while True:\n",
    "    if ky.read_key() == \"p\":\n",
    "        print(\"You pressed p\")\n",
    "        break\n",
    "\n",
    "while True:\n",
    "    if ky.is_pressed(\"q\"):\n",
    "        print(\"You pressed q\")\n",
    "        break\n",
    "\n",
    "#Recomendada sin Bucle while\n",
    "ky.on_press_key(\"r\", lambda _:print(\"You pressed r\"))     \n",
    "ky.on_press_key(\"a\", callback)"
   ]
  },
  {
   "cell_type": "code",
   "execution_count": null,
   "metadata": {},
   "outputs": [],
   "source": [
    "#Cre Shortcut - hotkey\n",
    "ky.add_hotkey('a',      lambda: ky.write( ' Geek' ,delay=0.5))\n",
    "ky.add_hotkey('space',  lambda: print('space was pressed!'))\n",
    "ky.add_hotkey('space', print, args=['space was pressed'])\n"
   ]
  }
 ],
 "metadata": {
  "kernelspec": {
   "display_name": "Python 3 (ipykernel)",
   "language": "python",
   "name": "python3"
  },
  "language_info": {
   "codemirror_mode": {
    "name": "ipython",
    "version": 3
   },
   "file_extension": ".py",
   "mimetype": "text/x-python",
   "name": "python",
   "nbconvert_exporter": "python",
   "pygments_lexer": "ipython3",
   "version": "3.13.2"
  },
  "vscode": {
   "interpreter": {
    "hash": "e7370f93d1d0cde622a1f8e1c04877d8463912d04d973331ad4851f04de6915a"
   }
  }
 },
 "nbformat": 4,
 "nbformat_minor": 4
}
