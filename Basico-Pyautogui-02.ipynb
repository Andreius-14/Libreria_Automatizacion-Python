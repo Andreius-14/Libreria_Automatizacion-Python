{
 "cells": [
  {
   "cell_type": "code",
   "execution_count": 1,
   "metadata": {},
   "outputs": [
    {
     "ename": "ModuleNotFoundError",
     "evalue": "No module named 'pyautogui'",
     "output_type": "error",
     "traceback": [
      "\u001b[0;31m---------------------------------------------------------------------------\u001b[0m",
      "\u001b[0;31mModuleNotFoundError\u001b[0m                       Traceback (most recent call last)",
      "Cell \u001b[0;32mIn[1], line 1\u001b[0m\n\u001b[0;32m----> 1\u001b[0m \u001b[39mimport\u001b[39;00m \u001b[39mpyautogui\u001b[39;00m\n\u001b[1;32m      2\u001b[0m pyautogui\u001b[39m.\u001b[39mhotkey(\u001b[39m'\u001b[39m\u001b[39mwin\u001b[39m\u001b[39m'\u001b[39m,\u001b[39m'\u001b[39m\u001b[39mr\u001b[39m\u001b[39m'\u001b[39m)\n\u001b[1;32m      3\u001b[0m pyautogui\u001b[39m.\u001b[39mPAUSE \u001b[39m=\u001b[39m \u001b[39m1\u001b[39m\n",
      "\u001b[0;31mModuleNotFoundError\u001b[0m: No module named 'pyautogui'"
     ]
    }
   ],
   "source": [
    "import pyautogui\n",
    "pyautogui.hotkey('win','r')\n",
    "pyautogui.PAUSE = 1\n",
    "\n",
    "pyautogui.typewrite('cmd')\n",
    "pyautogui.PAUSE = 1\n",
    "\n",
    "pyautogui.hotkey('enter')\n",
    "pyautogui.PAUSE = 1\n",
    "\n",
    "pyautogui.typewrite('ipconfig')\n",
    "pyautogui.PAUSE = 1\n",
    "\n",
    "pyautogui.hotkey('enter')\n",
    "pyautogui.PAUSE = 1"
   ]
  },
  {
   "cell_type": "code",
   "execution_count": null,
   "metadata": {},
   "outputs": [],
   "source": [
    "\n",
    "import pyautogui\n",
    "\n",
    "# pyautogui.hotkey('win','m')\n",
    "# pyautogui.PAUSE = 1\n",
    "\n",
    "pyautogui.click('prueba.png',clicks=2)\n"
   ]
  },
  {
   "attachments": {},
   "cell_type": "markdown",
   "metadata": {},
   "source": [
    "### Captura de Pantalla"
   ]
  },
  {
   "cell_type": "code",
   "execution_count": 1,
   "metadata": {},
   "outputs": [
    {
     "name": "stdout",
     "output_type": "stream",
     "text": [
      "/home/carlosa/Escritorio/Py-Automatizacion/■ Pyautogui\n"
     ]
    }
   ],
   "source": [
    "# Saca Foto y guarda automatizado\n",
    "\n",
    "import pyautogui\n",
    "import os\n",
    "\n",
    "ruta = os.getcwd()\n",
    "name_archivo ='aaa.png'\n",
    "variable = os.path.join(ruta,name_archivo)\n",
    "\n",
    "myScreenshot = pyautogui.screenshot()\n",
    "myScreenshot.save(variable)\n",
    "# No toma capturas en Linux - requiere scrot\n",
    "\n",
    "print(ruta)"
   ]
  },
  {
   "attachments": {},
   "cell_type": "markdown",
   "metadata": {},
   "source": [
    "### Informacion Especial"
   ]
  },
  {
   "cell_type": "code",
   "execution_count": null,
   "metadata": {},
   "outputs": [],
   "source": [
    "import pyautogui as py\n",
    "# Muestra Informacion\n",
    "py.position()             # Mouse  - Posicion\n",
    "py.pixel()                # Color Posicion RGB\n",
    "py.size()                 # Laptop - Tamaño\n",
    "\n",
    "x, y = py.position()\n",
    "w, h = py.size()\n",
    "r, g, b = py.pixel()\n",
    "\n",
    "# ■■ Especial ■■ \n",
    "py.PAUSE = 2.5          # Pausa  2.5 seg\n",
    "py.FAILSAFE = True      # Cancela programa\n",
    "\n",
    "py.locate_on_screen('image.png') != None # Bool Imagen esta o no Bool\n",
    "py.displayMousePosition() # Posicion [Tiempo real]"
   ]
  }
 ],
 "metadata": {
  "kernelspec": {
   "display_name": "Python 3.10.8 64-bit",
   "language": "python",
   "name": "python3"
  },
  "language_info": {
   "codemirror_mode": {
    "name": "ipython",
    "version": 3
   },
   "file_extension": ".py",
   "mimetype": "text/x-python",
   "name": "python",
   "nbconvert_exporter": "python",
   "pygments_lexer": "ipython3",
   "version": "3.11.3"
  },
  "orig_nbformat": 4,
  "vscode": {
   "interpreter": {
    "hash": "e7370f93d1d0cde622a1f8e1c04877d8463912d04d973331ad4851f04de6915a"
   }
  }
 },
 "nbformat": 4,
 "nbformat_minor": 2
}
