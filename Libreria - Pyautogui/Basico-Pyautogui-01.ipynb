{
 "cells": [
  {
   "cell_type": "code",
   "execution_count": null,
   "metadata": {},
   "outputs": [],
   "source": [
    "import pyautogui as py\n",
    "# Muestra Informacion\n",
    "py.position()             # Mouse  - Posicion\n",
    "py.pixel()                # Color Posicion RGB\n",
    "py.size()                 # Laptop - Tamaño\n",
    "\n",
    "x, y = py.position()\n",
    "w, h = py.size()\n",
    "r, g, b = py.pixel()\n",
    "\n",
    "# ■■ Especial ■■ \n",
    "py.PAUSE = 2.5          # Pausa  2.5 seg\n",
    "py.FAILSAFE = True      # Cancela programa\n",
    "\n",
    "py.locate_on_screen('image.png') != None # Bool Imagen esta o no Bool\n",
    "py.displayMousePosition() # Posicion [Tiempo real] "
   ]
  },
  {
   "cell_type": "markdown",
   "metadata": {},
   "source": [
    "# Ventanas"
   ]
  },
  {
   "cell_type": "code",
   "execution_count": null,
   "metadata": {},
   "outputs": [],
   "source": [
    "import pyautogui as py # ■■ Alertas ■■ Cajas ■■\n",
    "\n",
    "# Ventana Emergente 1 Boton\n",
    "py.alert(text='Ventana con Mensaje')              \n",
    "py.alert(text='', title='', button='OK')\n",
    "\n",
    "# Ventana Emergente 2 Botones\n",
    "py.confirm(text='Ventana Emergente Doble Opcion') \n",
    "py.confirm(text='', title='', buttons=['OK', 'Cancel'])\n",
    "\n",
    "# Ventana Input\n",
    "py.prompt(text='Ingresa Texto e Imprime:')        \n",
    "py.prompt(text='', title='' , default='')\n",
    "\n",
    "# Ventana Input [password]\n",
    "py.password(text='', title='', default='', mask='*')\n",
    "\n",
    "# ■■ Output una Cadena\n"
   ]
  },
  {
   "cell_type": "markdown",
   "metadata": {},
   "source": [
    "# MOUSE"
   ]
  },
  {
   "cell_type": "code",
   "execution_count": null,
   "metadata": {},
   "outputs": [],
   "source": [
    "import pyautogui     # ■■ Raton  ■■      [Las Coordenadas se guian Desde Pantalla x→ y↓]\n",
    "\n",
    "# Clicks\n",
    "pyautogui.click()                           # (x , y , clicks=1 , interval= , button=)\n",
    "pyautogui.click(500,470)                    # buttons ='left', 'middle', or 'right'\n",
    "pyautogui.click('logo.png',clicks=2)        # Click en Icono\n",
    "\n",
    "pyautogui.doubleClick(500,470)              # Redundante  (x , y)  \n",
    "pyautogui.tripleClick()                     # Redundante  (x , y)\n",
    "pyautogui.rightClick()                      # Redundante  (x , y)\n",
    "pyautogui.middleClick()                     # Redundante  (x , y)\n",
    "\n",
    "# Mover\n",
    "pyautogui.moveTo()                          # Mover     (x,y,duracion)\n",
    "pyautogui.move()                            # Mover     [Desde Ubicacion]\n",
    "pyautogui.moveRel(100,10,duration=0.5)      # Redundante  Mover     [Desde Ubicacion]\n",
    "\n",
    "# Arrastrar\n",
    "pyautogui.dragTo()                          # Arrastrar (x,y,duracion)\n",
    "pyautogui.drag(10,100,duration=2)           # Arrastrar [Desde Ubicacion]\n",
    "pyautogui.dragRel(10,100,duration=2)        # Arrastrar [Desde Ubicacion]\n",
    "\n",
    "#Scroll\n",
    "pyautogui.scroll()                          # (10) Hacia ↑ (-10) Hacia↓\n",
    "\n",
    "\n",
    "# pyautogui.displayMousePosition()          # Mouse  - Posicion [Tiempo real]\n",
    "# pyautogui.click()         # imagen - Coordenadas    \n",
    "  \n",
    "# x, y = pyautogui.locateCenterOnScreen('calc7key.png')\n",
    "# pyautogui.click(x, y)\n",
    "# pyautogui.locateOnScreen() != None        # Bool Imagen esta o no Bool"
   ]
  },
  {
   "cell_type": "code",
   "execution_count": null,
   "metadata": {},
   "outputs": [],
   "source": [
    "import pyautogui  as py\n",
    "\n",
    "# Click en Boton - Usando Imagen\n",
    "\n",
    "py.click()                     \n",
    "py.center()\n",
    "py.locateCenterOnScreen()\n",
    "py.locateAllOnScreen()\n",
    "\n",
    "# Modo - 01\n",
    "image_location = py.locateOnScreen('image.png') # Tupla\n",
    "\n",
    "if image_location:\n",
    "    x, y = py.center(image_location)\n",
    "    py.click(x, y)\n",
    "\n",
    "# Modo - 02  [Recomendado]\n",
    "x, y = py.locateCenterOnScreen('image.png')     # Tupla\n",
    "if (x and y):\n",
    "    pyautogui.click(x, y)\n",
    "\n",
    "\n",
    "# Parametros Extra De\n",
    "py.locateCenterOnScreen()\n",
    "py.locateAllOnScreen()\n",
    "\n",
    "py.locateOnScreen('Imagen.png', confidence=0.9, grayscale=True, region=(0,0, 300, 400))\n",
    "\n",
    "#confidence = Margen de Error  (pip install opencv-python)\n",
    "#grayscle = Acelera Resultado   \n",
    "#region = Limita region (x, y, width, height)"
   ]
  },
  {
   "cell_type": "markdown",
   "metadata": {},
   "source": [
    "# Teclado"
   ]
  },
  {
   "cell_type": "code",
   "execution_count": null,
   "metadata": {},
   "outputs": [],
   "source": [
    "import pyautogui        \n",
    "\n",
    "# ■■ Teclado Basico ■■  \n",
    "\n",
    "# Basicas\n",
    "pyautogui.press()                              # Presiona Tecla  \n",
    "pyautogui.press(['left', 'left', 'left'])\n",
    "pyautogui.press('left', presses=3)      \n",
    "\n",
    "\n",
    "pyautogui.keyDown('shift')  #no                # Mantiene Presionado \n",
    "pyautogui.keyUp('shift')    #no                # Suelta el Presionado\n",
    "\n",
    "# Medias\n",
    "pyautogui.write()                           # textear  ('texto') ('texto',intervalo)             \n",
    "pyautogui.typewrite('molestia', 5)          # Escribe en la Seleccion ('texto',intervalo)\n",
    "\n",
    "# ShortCut  \n",
    "# Presiona Ctrl + Alt + Del simultáneamente\n",
    "pyautogui.hotkey('ctrl', 'alt', 'delete')\n",
    "\n",
    "# Presiona Ctrl + Shift + S simultáneamente\n",
    "pyautogui.hotkey('ctrl', 'shift', 's')\n",
    "\n",
    "with pyautogui.hold('shift'):  # Mantiene Presion y suelta al finalizar\n",
    "        pyautogui.press(['left', 'left', 'left'])\n"
   ]
  }
 ],
 "metadata": {
  "kernelspec": {
   "display_name": "Python 3.10.8 64-bit",
   "language": "python",
   "name": "python3"
  },
  "language_info": {
   "codemirror_mode": {
    "name": "ipython",
    "version": 3
   },
   "file_extension": ".py",
   "mimetype": "text/x-python",
   "name": "python",
   "nbconvert_exporter": "python",
   "pygments_lexer": "ipython3",
   "version": "3.11.3"
  },
  "vscode": {
   "interpreter": {
    "hash": "e7370f93d1d0cde622a1f8e1c04877d8463912d04d973331ad4851f04de6915a"
   }
  }
 },
 "nbformat": 4,
 "nbformat_minor": 2
}
