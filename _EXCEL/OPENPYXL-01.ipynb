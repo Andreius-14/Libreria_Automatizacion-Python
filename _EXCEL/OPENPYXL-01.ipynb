{
 "cells": [
  {
   "attachments": {},
   "cell_type": "markdown",
   "metadata": {},
   "source": [
    "### Abrir y Guardar\n"
   ]
  },
  {
   "cell_type": "code",
   "execution_count": null,
   "metadata": {},
   "outputs": [],
   "source": [
    "from openpyxl import load_workbook\n",
    "from openpyxl import Workbook\n",
    "\n",
    "# Crear\n",
    "wb = Workbook()\n",
    "\n",
    "# [🌱 Modo 01]\n",
    "\n",
    "# Abrir\n",
    "wb = load_workbook(\"datos.xlsx\")\n",
    "# Guardar\n",
    "wb.save(\"balances.xlsx\")\n",
    "\n",
    "# [🌱 Modo 02]\n",
    "try:\n",
    "    # Abrir un libro existente\n",
    "    wb = load_workbook(\"datos.xlsx\", read_only=False)\n",
    "except FileNotFoundError:\n",
    "    # Crear un nuevo libro de Excel\n",
    "    wb = Workbook()"
   ]
  },
  {
   "attachments": {},
   "cell_type": "markdown",
   "metadata": {},
   "source": [
    "### Hojas de Calculo\n"
   ]
  },
  {
   "cell_type": "code",
   "execution_count": null,
   "metadata": {},
   "outputs": [],
   "source": [
    "from openpyxl import Workbook\n",
    "\n",
    "# Crear un libro de trabajo\n",
    "wb = Workbook()\n",
    "\n",
    "\"\"\" Foto 01 \"\"\"\n",
    "\n",
    "# Crea - nueva hoja\n",
    "ws1 = wb.create_sheet(\"Hoja Nueva\")\n",
    "# Crea - nueva hoja con un índice específico\n",
    "ws2 = wb.create_sheet(\"Hoja Nueva2\", 0)\n",
    "\n",
    "# Obtener - hoja específica por nombre\n",
    "ws3 = wb.get_sheet_by_name(\"Hoja Nueva\")\n",
    "# Obtener - hoja específica por índice\n",
    "ws4 = wb.worksheets[1]\n",
    "\n",
    "# Eliminar - una hoja existente\n",
    "wb.remove_sheet(ws4)\n",
    "\n",
    "# Guardar el archivo\n",
    "wb.save(\"ejemplo.xlsx\")\n",
    "\n",
    "\"\"\" Foto 02 \"\"\"\n",
    "\n",
    "# lista con los nombres de las hojas\n",
    "sheet_names = wb.sheetnames\n",
    "\n",
    "# Seleccionar la hoja activa\n",
    "ws5 = wb.active\n",
    "\n",
    "# Escribir en una celda\n",
    "ws5[\"A1\"] = 42"
   ]
  },
  {
   "cell_type": "code",
   "execution_count": null,
   "metadata": {},
   "outputs": [],
   "source": [
    "# Obtener el número de filas y columnas en la hoja\n",
    "print(\"Numero de filas: \", ws.max_row)\n",
    "print(\"Numero de columnas: \", ws.max_column)"
   ]
  },
  {
   "attachments": {},
   "cell_type": "markdown",
   "metadata": {},
   "source": [
    "### Hojas de Calculo - Propiedades\n"
   ]
  },
  {
   "cell_type": "code",
   "execution_count": null,
   "metadata": {},
   "outputs": [],
   "source": [
    "from openpyxl import Workbook\n",
    "\n",
    "# Crear un libro de trabajo\n",
    "wb = Workbook()\n",
    "\n",
    "# Crear una nueva hoja de cálculo\n",
    "ws = wb.create_sheet(\"Hoja 1\")\n",
    "\n",
    "# Cambiar - título de la hoja\n",
    "ws.title = \"Nuevo Título\"\n",
    "\n",
    "# Cambiar - color de la pestaña\n",
    "ws.sheet_properties.tabColor = \"1072BA\"\n",
    "\n",
    "# Proteger hoja de Cambios no autorizadas\n",
    "ws.protection.sheet = True\n",
    "\n",
    "# Contraseña para proteger la hoja\n",
    "ws.protection.password = \"mypassword\"\n",
    "\n",
    "# Guardar el archivo\n",
    "wb.save(\"ejemplo.xlsx\")\n",
    "\n",
    "# Insertar\n",
    "ws.title = \"New Title\"\n",
    "ws.sheet_properties.tabColor = \"1072BA\""
   ]
  },
  {
   "attachments": {},
   "cell_type": "markdown",
   "metadata": {},
   "source": [
    "### Excel - Crear Copia\n"
   ]
  },
  {
   "cell_type": "code",
   "execution_count": null,
   "metadata": {},
   "outputs": [],
   "source": [
    "# Crea Copia\n",
    "source = wb.active\n",
    "target = wb.copy_worksheet(source)"
   ]
  },
  {
   "attachments": {},
   "cell_type": "markdown",
   "metadata": {},
   "source": [
    "### Excel - Saltar entre las Hojas - Editar\n"
   ]
  },
  {
   "cell_type": "code",
   "execution_count": null,
   "metadata": {},
   "outputs": [],
   "source": [
    "\"\"\" [🌱 worksheets] \"\"\"\n",
    "\n",
    "from openpyxl import Workbook\n",
    "\n",
    "# Crear un libro de trabajo\n",
    "wb = Workbook()\n",
    "\n",
    "# Crear una nueva hoja de cálculo\n",
    "ws1 = wb.create_sheet(\"Hoja 1\")\n",
    "\n",
    "# Crear una nueva hoja de cálculo con un índice específico\n",
    "ws2 = wb.create_sheet(\"Hoja 2\", 0)\n",
    "\n",
    "# Obtener la primera hoja\n",
    "ws3 = wb.worksheets[0]\n",
    "\n",
    "# Obtener la segunda hoja\n",
    "ws4 = wb.worksheets[1]\n",
    "\n",
    "# Escribir en una celda\n",
    "ws3[\"A1\"] = 42\n",
    "ws4[\"B2\"] = \"Hello, World!\"\n",
    "\n",
    "# Guardar el archivo\n",
    "wb.save(\"ejemplo.xlsx\")"
   ]
  },
  {
   "cell_type": "code",
   "execution_count": null,
   "metadata": {},
   "outputs": [],
   "source": [
    "\"\"\" [🌱 Bucle For] \"\"\"\n",
    "\n",
    "from openpyxl import Workbook\n",
    "\n",
    "# Crear un libro de trabajo\n",
    "wb = Workbook()\n",
    "\n",
    "# Crear una nueva hoja de cálculo\n",
    "ws1 = wb.create_sheet(\"Hoja 1\")\n",
    "\n",
    "# Crear una nueva hoja de cálculo con un índice específico\n",
    "ws2 = wb.create_sheet(\"Hoja 2\", 0)\n",
    "\n",
    "# Recorrer todas las hojas del libro de trabajo\n",
    "for sheet in wb:\n",
    "    sheet[\"A1\"] = 42\n",
    "\n",
    "# Guardar el archivo\n",
    "wb.save(\"ejemplo.xlsx\")"
   ]
  },
  {
   "cell_type": "code",
   "execution_count": null,
   "metadata": {},
   "outputs": [],
   "source": [
    "\"\"\" [🌱  get_sheet_by_name() ] \"\"\"\n",
    "\n",
    "from openpyxl import Workbook\n",
    "\n",
    "# Crea - Libro\n",
    "wb = Workbook()\n",
    "\n",
    "# Crea - Hoja\n",
    "ws1 = wb.create_sheet(\"Hoja 1\")\n",
    "\n",
    "# Crea - Hoja, índice específico\n",
    "ws2 = wb.create_sheet(\"Hoja 2\", 0)\n",
    "\n",
    "-----\n",
    "# Obtener a Hoja por nombre\n",
    "ws3 = wb.get_sheet_by_name(\"Hoja 1\")\n",
    "ws4 = wb.get_sheet_by_name(\"Hoja 2\")\n",
    "\n",
    "# Escribir en una celda\n",
    "ws3['A1'] = 42\n",
    "ws4['B2'] = \"Hello, World!\"\n",
    "-----\n",
    "\n",
    "# Guardar el archivo\n",
    "wb.save(\"ejemplo.xlsx\")"
   ]
  },
  {
   "attachments": {},
   "cell_type": "markdown",
   "metadata": {},
   "source": [
    "### Celdas y Columnas\n"
   ]
  },
  {
   "cell_type": "code",
   "execution_count": null,
   "metadata": {},
   "outputs": [],
   "source": [
    "# Celdas\n",
    "cell = ws[\"A4\"]\n",
    "cell_range = ws[\"Al\":\"C2\"]\n",
    "\n",
    "valorCelda = ws.cell(row=4, column=2, value=10)\n",
    "# ws['Al'] o ws.cell(row=1, column='A' )\n",
    "\n",
    "# Filas y Columnas\n",
    "rowl0 = ws[10]\n",
    "row_range = ws[5:10]\n",
    "\n",
    "colG = ws[\"C\"]\n",
    "colc_range = ws[\"C:D\"]"
   ]
  },
  {
   "cell_type": "code",
   "execution_count": null,
   "metadata": {},
   "outputs": [],
   "source": [
    "\"\"\" [DESPLAZA RANGO] \"\"\"\n",
    "\n",
    "ws.move_range(\"D4:F10\", rows=-1, cols=2)\n",
    "ws.move_range(\"G4:H10\", rows=1, cols=1, translate=True)"
   ]
  },
  {
   "cell_type": "code",
   "execution_count": null,
   "metadata": {},
   "outputs": [],
   "source": [
    "\"\"\" Funciones Values \"\"\"\n",
    "\n",
    "c = ws[\"A4\"]\n",
    "c.value = \"hello, world\"\n",
    "print(c.value)  #'hello, world'\n",
    "\n",
    "d = ws.cell(row=4, column=2, value=10)\n",
    "d.value = 3.14\n",
    "print(d.value)  # 3.14\n",
    "\n",
    "# Extra\n",
    "for row in ws.values:\n",
    "    for value in row:\n",
    "        print(value)"
   ]
  },
  {
   "attachments": {
    "image.png": {
     "image/png": "[encoded data removed]"
    }
   },
   "cell_type": "markdown",
   "metadata": {},
   "source": [
    "![image.png](attachment:image.png)\n"
   ]
  },
  {
   "attachments": {},
   "cell_type": "markdown",
   "metadata": {},
   "source": [
    "### Ingresa Datos\n"
   ]
  },
  {
   "cell_type": "code",
   "execution_count": null,
   "metadata": {},
   "outputs": [],
   "source": [
    "# Asignar a celda\n",
    "ws.cell(row=1, column=\"A\").value = 42\n",
    "# Asianar a celda\n",
    "ws[\"B2\"] = \"Hello, World!\"\n",
    "# Ingresar un rango\n",
    "ws.append([1, 2, 3, 4, 5])"
   ]
  },
  {
   "cell_type": "code",
   "execution_count": null,
   "metadata": {},
   "outputs": [],
   "source": [
    "# Ingresar datos for\n",
    "productos = [\n",
    "('producto _1', 'a859', 1500, 9.95),\n",
    "('producto_2' ,'b125' , 600 , 4.95),\n",
    "('producto_3' ,'c764' , 200 , 19.95),\n",
    "('producto_4' ,'d399' , 2000, 49.95)\n",
    "]\n",
    "\n",
    "# Inserta - encabezados\n",
    "hoja = wb.active\n",
    "hoja.append( ( 'Nombre', 'Referencia', 'Stock', 'Precio' ))\n",
    "\n",
    "# Inserta - Productos\n",
    "for producto in productos:\n",
    "    hoja.append(producto)"
   ]
  }
 ],
 "metadata": {
  "language_info": {
   "name": "python"
  },
  "orig_nbformat": 4
 },
 "nbformat": 4,
 "nbformat_minor": 2
}
