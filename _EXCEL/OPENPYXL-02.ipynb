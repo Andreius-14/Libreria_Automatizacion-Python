{
 "cells": [
  {
   "attachments": {},
   "cell_type": "markdown",
   "metadata": {},
   "source": [
    "# Comandos - Basicos"
   ]
  },
  {
   "cell_type": "code",
   "execution_count": null,
   "metadata": {},
   "outputs": [],
   "source": [
    "from openpyxl import Workbook\n",
    "\n",
    "# Crear un nuevo libro de Excel\n",
    "wb = Workbook()\n",
    "\n",
    "# Acceder a la hoja activa\n",
    "ws = wb.active\n",
    "\n",
    "# Acceder a una celda especitfica y asignarle un valor\n",
    "ws['A1'] = 'Nombre'\n",
    "ws['B1'] = 'Edad'\n",
    "ws[\"Cl\"] = 'Ciudad'\n",
    "\n",
    "# Añadir nuevas filas\n",
    "ws.append(['Juan', 25, 'Lima'])\n",
    "ws.append(['Maria', 30, 'Arequipa'])\n",
    "ws.append(['Carlos', 35, 'Trujillo'])\n",
    "\n",
    "# Guardar el libro de Excel\n",
    "wb.save('datos.xlsx')"
   ]
  },
  {
   "cell_type": "code",
   "execution_count": null,
   "metadata": {},
   "outputs": [],
   "source": [
    "# 🌱🌱🌱 Ejemplos\n",
    "from openpyxl import load_workbook\n",
    "\n",
    "# Abre archivo de Excel\n",
    "wb = load_workbook( 'datos.xlsx')\n",
    "\n",
    "# Acceder a la hoja activa\n",
    "ws = wb.active\n",
    "\n",
    "# Imprime - Celda Especifica\n",
    "print(ws['A1'].value)\n",
    "\n",
    "# New - hoja en el libro\n",
    "ws2 = wb.create_sheet(\"Hoja 2\")\n",
    "\n",
    "# Inserta Valor\n",
    "ws2['A1'] = 'Producto'\n",
    "ws2['B1'] = 'Precio'\n",
    "\n",
    "# Guardar - Sobreescribe\n",
    "wb.save('datos.xlsx')"
   ]
  },
  {
   "attachments": {},
   "cell_type": "markdown",
   "metadata": {},
   "source": [
    "# Comandos - Medios"
   ]
  },
  {
   "cell_type": "code",
   "execution_count": null,
   "metadata": {},
   "outputs": [],
   "source": [
    "from openpyxl import load_workbook\n",
    "\n",
    "# Abrir un libro existente\n",
    "wb = load_workbook( 'datos.xlsx', read_only=False)\n",
    "\n",
    "# Acceder a la hoja activa\n",
    "ws = wb.active\n",
    "\n",
    "# Agregar una nueva fila\n",
    "ws.append(['Nuevo', 'Nuevo', 'Nuevo'])\n",
    "\n",
    "# Insertar una nueva fila en la posicion 3\n",
    "ws.insert_rows(3)\n",
    "\n",
    "# Eliminar la fila en la posicion 2\n",
    "ws.delete_rows(2)\n",
    "\n",
    "\n",
    "# Celdas - Convinar\n",
    "ws.merge_cells('A1:C1')\n",
    "\n",
    "# Celda - Separar\n",
    "ws.unmerge_cells('A1')\n",
    "\n",
    "\n",
    "# Guardar los cambios en el libro de Excel\n",
    "wb.save('datos.xlsx')"
   ]
  },
  {
   "cell_type": "code",
   "execution_count": null,
   "metadata": {},
   "outputs": [],
   "source": [
    "# 🌱🌱🌱 Ejemplos\n",
    "\n",
    "from openpyxl import load_workbook\n",
    "\n",
    "# Abrir un libro existente\n",
    "wb = openpyxl.Workbook()\n",
    "\n",
    "# Acceder a la hoja activa\n",
    "ws = wb.active\n",
    "\n",
    "data = (\n",
    "(\"Product\",\"Cost Price\",\"Selling Price\"),\n",
    "(\"earpod\",90, 50),\n",
    "(\"laptop\", 3000, 8200),\n",
    "(\"smartphone\", 5100, 7200)\n",
    ")\n",
    "\n",
    "for i in data:\n",
    "    ws.append(i)\n",
    "\n",
    "\n",
    "wb.save('datos.xlsx')"
   ]
  },
  {
   "attachments": {
    "image.png": {
     "image/png": "[encoded data removed]"
    }
   },
   "cell_type": "markdown",
   "metadata": {},
   "source": [
    "![image.png](attachment:image.png)"
   ]
  },
  {
   "attachments": {},
   "cell_type": "markdown",
   "metadata": {},
   "source": [
    "# Comandos - Avanzados"
   ]
  },
  {
   "attachments": {},
   "cell_type": "markdown",
   "metadata": {},
   "source": [
    "### 🌱 escribir un libro de trabajo"
   ]
  },
  {
   "cell_type": "code",
   "execution_count": null,
   "metadata": {},
   "outputs": [],
   "source": [
    "\n",
    "from openpyxl import Workbook\n",
    "from openpyxl.utils import get_column_letter\n",
    "\n",
    "wb = Workbook()\n",
    "\n",
    "dest_filename = 'empty_book.xlsx'\n",
    "\n",
    "ws1 = wb.active\n",
    "ws1.title = \"range names\"\n",
    "\n",
    "for row in range(1, 40):\n",
    "    ws1.append(range(600))\n",
    "\n",
    "ws2 = wb.create_sheet(title=\"Pi\")\n",
    "\n",
    "ws2['F5'] = 3.14\n",
    "\n",
    "ws3 = wb.create_sheet(title=\"Data\")\n",
    "for row in range(10, 20):\n",
    "    for col in range(27, 54):\n",
    "        _ = ws3.cell(column=col, row=row, value=\"{0}\".format(get_column_letter(col)))\n",
    "\n",
    "print(ws3['AA10'].value)\n",
    "wb.save(filename = dest_filename)"
   ]
  },
  {
   "attachments": {},
   "cell_type": "markdown",
   "metadata": {},
   "source": [
    "### 🌱 Leer un libro de trabajo existente"
   ]
  },
  {
   "cell_type": "code",
   "execution_count": null,
   "metadata": {},
   "outputs": [],
   "source": [
    "# Leer un libro de trabajo existente\n",
    "from openpyxl import load_workbook\n",
    "wb = load_workbook(filename = 'empty_book.xlsx')\n",
    "sheet_ranges = wb['range names']\n",
    "print(sheet_ranges['D18'].value)"
   ]
  },
  {
   "attachments": {},
   "cell_type": "markdown",
   "metadata": {},
   "source": [
    "### 🌱 Uso de formatos de número"
   ]
  },
  {
   "cell_type": "code",
   "execution_count": null,
   "metadata": {},
   "outputs": [],
   "source": [
    "import datetime\n",
    "from openpyxl import Workbook\n",
    "wb = Workbook()\n",
    "ws = wb.active\n",
    "# set date using a Python datetime\n",
    "ws['A1'] = datetime.datetime(2010, 7, 21)\n",
    "ws['A1'].number_format\n",
    "# 'yyyy-mm-dd h:mm:ss'"
   ]
  },
  {
   "attachments": {},
   "cell_type": "markdown",
   "metadata": {},
   "source": [
    "### 🌱 Usando fórmulas"
   ]
  },
  {
   "cell_type": "code",
   "execution_count": null,
   "metadata": {},
   "outputs": [],
   "source": [
    "from openpyxl import Workbook\n",
    "wb = Workbook()\n",
    "ws = wb.active\n",
    "# add a simple formula\n",
    "ws[\"A1\"] = \"=SUM(1, 1)\"\n",
    "wb.save(\"formula.xlsx\")"
   ]
  },
  {
   "attachments": {},
   "cell_type": "markdown",
   "metadata": {},
   "source": [
    "### 🌱 Fusionar / Separar celdas"
   ]
  },
  {
   "cell_type": "code",
   "execution_count": null,
   "metadata": {},
   "outputs": [],
   "source": [
    "from openpyxl.workbook import Workbook\n",
    "wb = Workbook()\n",
    "ws = wb.active\n",
    "\n",
    "ws.merge_cells('A2:D2')\n",
    "ws.unmerge_cells('A2:D2')\n",
    "\n",
    "# or equivalently\n",
    "ws.merge_cells(start_row=2, start_column=1, end_row=4, end_column=4)\n",
    "ws.unmerge_cells(start_row=2, start_column=1, end_row=4, end_column=4)"
   ]
  }
 ],
 "metadata": {
  "kernelspec": {
   "display_name": "Notas-Py-Automatizacion-osYMNczG",
   "language": "python",
   "name": "python3"
  },
  "language_info": {
   "name": "python",
   "version": "3.11.3"
  },
  "orig_nbformat": 4
 },
 "nbformat": 4,
 "nbformat_minor": 2
}
