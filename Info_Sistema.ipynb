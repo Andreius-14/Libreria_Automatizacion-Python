{
 "cells": [
  {
   "cell_type": "code",
   "execution_count": null,
   "metadata": {},
   "outputs": [],
   "source": [
    "\"\"\"\n",
    "┏━━━━━━━━━━━━━━━━━━━━━━━━━━━━━━━━━━━━━━━┓\n",
    "┃           Modulo - OS                 ┃\n",
    "┗━━━━━━━━━━━━━━━━━━━━━━━━━━━━━━━━━━━━━━━┛ \n",
    "\"\"\"\n",
    "\n",
    "import os\n",
    "\n",
    "print(\"Nombre de usuario: \\n\\t ➡️ \", os.getlogin())\n",
    "print(\"Nombre del S.O :\\n\\t ➡️ \", os.name)\n",
    "print(\"Información del sistema:\\n\\t ➡️ \", os.uname())\n",
    "print(\"Variables de entorno:\\n\\t ➡️ \", os.environ)\n",
    "\n",
    "# print(f\"{'Nombre de usuario:':<30}\", os.getlogin())\n",
    "# print(f\"{'Nombre del S.O :':<30}\", os.name)\n",
    "# print(f\"{'Información del sistema:':<30}\", os.uname())\n",
    "# print(f\"{'Variables de entorno:':<30}\", os.environ)"
   ]
  },
  {
   "cell_type": "code",
   "execution_count": null,
   "metadata": {},
   "outputs": [],
   "source": [
    "\"\"\"\n",
    "┏━━━━━━━━━━━━━━━━━━━━━━━━━━━━━━━━━━━━━━━┓\n",
    "┃           Modulo - Platform           ┃\n",
    "┗━━━━━━━━━━━━━━━━━━━━━━━━━━━━━━━━━━━━━━━┛ \n",
    "\"\"\"\n",
    "\n",
    "import platform\n",
    "from colorama import Fore, Back, Style, init\n",
    "init()\n",
    "\n",
    "print(\"🌱 Sistema Operativo: \\n\\t ➡️ \", platform.system())\n",
    "print(\"🌱 Información de la Plataforma: \\n\\t ➡️ \", platform.platform())\n",
    "print(\"🌱 Versión del Sistema Operativo: \\n\\t ➡️ \", platform.version())\n",
    "print(\"🌱 Arquitectura del Hardware: \\n\\t ➡️ \", platform.architecture())\n",
    "print(\"🌱 Nombre del Nodo de Red: \\n\\t ➡️ \", platform.node())\n",
    "print(\"🌱 Procesador: \\n\\t ➡️ \", platform.processor())\n",
    "\n",
    "# Obtener información sobre la distribución de Linux\n",
    "# if sistema_operativo == \"Linux\":\n",
    "#     distribucion_linux = platform.linux_distribution()\n",
    "#     print(f\"Distribución de Linux: {distribucion_linux}\")\n"
   ]
  },
  {
   "cell_type": "code",
   "execution_count": null,
   "metadata": {},
   "outputs": [],
   "source": [
    "\"\"\"\n",
    "┏━━━━━━━━━━━━━━━━━━━━━━━━━━━━━━━━━━━━━━━┓\n",
    "┃           Modulo - Sys                ┃\n",
    "┗━━━━━━━━━━━━━━━━━━━━━━━━━━━━━━━━━━━━━━━┛ \n",
    "\"\"\"\n",
    "\n",
    "import sys\n",
    "\n",
    "# nombre del sistema operativo\n",
    "print('🌱', sys.platform)\n",
    "\n",
    "# version de Python\n",
    "print('🌱', sys.version)\n",
    "\n",
    "# la ruta de mddulos de Python\n",
    "print('🌱', sys.path)\n",
    "\n",
    "# nombre del modulo\n",
    "print('🌱', sys.argv[0])\n",
    "\n",
    "# numero de argumentos recibidos\n",
    "print('🌱', len(sys.argv))\n",
    "\n",
    "# argumentos recibidos\n",
    "print('🌱', sys.argv)\n",
    "\n",
    "# ruta del sistema operativo donde se encuentra el intérprete de Python\n",
    "print('🌱', sys.prefix)\n",
    "\n",
    "# lista de mddulos cargados\n",
    "print('🌱', sys.modules )\n",
    "\n",
    "# Lista de excepciones no manejadas\n",
    "print('🌱', sys.exc_info())\n",
    "\n",
    "# estado de salida del programa\n",
    "#print(sys.exit())"
   ]
  }
 ],
 "metadata": {
  "kernelspec": {
   "display_name": "Notas-Py-Automatizacion-osYMNczG",
   "language": "python",
   "name": "python3"
  },
  "language_info": {
   "codemirror_mode": {
    "name": "ipython",
    "version": 3
   },
   "file_extension": ".py",
   "mimetype": "text/x-python",
   "name": "python",
   "nbconvert_exporter": "python",
   "pygments_lexer": "ipython3",
   "version": "3.11.3"
  },
  "orig_nbformat": 4
 },
 "nbformat": 4,
 "nbformat_minor": 2
}
