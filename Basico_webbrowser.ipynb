{
 "cells": [
  {
   "attachments": {},
   "cell_type": "markdown",
   "metadata": {},
   "source": [
    "- webbrowser permite acciones con el Navegador predeterminado\n",
    "- Juega con las Url del Navegador Predeterminado"
   ]
  },
  {
   "attachments": {},
   "cell_type": "markdown",
   "metadata": {},
   "source": [
    "### Ventanas y Pestañas"
   ]
  },
  {
   "cell_type": "code",
   "execution_count": null,
   "metadata": {},
   "outputs": [],
   "source": [
    "import webbrowser\n",
    "\n",
    "url = \"https://www.google.com\"\n",
    "\n",
    "# Nueva Pestaña - Abriran el Navegador sino esta Abierto\n",
    "webbrowser.open(url)\n",
    "webbrowser.open_new('http://www.python.org')        # Ventana\n",
    "webbrowser.open_new_tab('http://www.python.org')    # Pestaña\n"
   ]
  },
  {
   "cell_type": "code",
   "execution_count": null,
   "metadata": {},
   "outputs": [],
   "source": [
    "import webbrowser\n",
    "\n",
    "url1 = \"https://www.google.com\"\n",
    "url2 = \"https://www.youtube.com\"\n",
    "\n",
    "webbrowser.open(url2, new=1)  # New Ventana\n",
    "webbrowser.open(url1, new=2)  # New Pestaña"
   ]
  },
  {
   "attachments": {},
   "cell_type": "markdown",
   "metadata": {},
   "source": [
    "Tiempo"
   ]
  },
  {
   "cell_type": "code",
   "execution_count": null,
   "metadata": {},
   "outputs": [],
   "source": [
    "import webbrowser\n",
    "import time\n",
    "\n",
    "url1 = \"https://www.youtube.com\"\n",
    "url2 = \"https://www.pinterest.com\"\n",
    "\n",
    "webbrowser.open(url1)\n",
    "time.sleep(5)  # Wait for 5 seconds\n",
    "webbrowser.open(url2, new=0)  # Open in the same browser window"
   ]
  },
  {
   "attachments": {},
   "cell_type": "markdown",
   "metadata": {},
   "source": [
    "### Navegador Especifico"
   ]
  },
  {
   "cell_type": "code",
   "execution_count": null,
   "metadata": {},
   "outputs": [],
   "source": [
    "import webbrowser\n",
    "\n",
    "# webbrowser.get(using=None)\n",
    "# webbrowser.get('firefox')\n",
    "\n",
    "url = \"https://www.example.com\"\n",
    "browser = webbrowser.get(\"chrome\")\n",
    "browser.open(url)"
   ]
  },
  {
   "cell_type": "code",
   "execution_count": null,
   "metadata": {},
   "outputs": [],
   "source": [
    "import webbrowser\n",
    "\n",
    "url = \"https://www.example.com\"\n",
    "try:\n",
    "    browser = webbrowser.get(\"chrome\")\n",
    "    browser.open(url)\n",
    "except webbrowser.Error:\n",
    "    print(\"Could not find the specified browser. Opening in default browser.\")\n",
    "    webbrowser.open(url)"
   ]
  }
 ],
 "metadata": {
  "kernelspec": {
   "display_name": "Python 3",
   "language": "python",
   "name": "python3"
  },
  "language_info": {
   "name": "python",
   "version": "3.11.3"
  },
  "orig_nbformat": 4
 },
 "nbformat": 4,
 "nbformat_minor": 2
}
