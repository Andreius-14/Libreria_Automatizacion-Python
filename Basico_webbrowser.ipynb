{
 "cells": [
  {
   "attachments": {},
   "cell_type": "markdown",
   "metadata": {},
   "source": [
    "- webbrowser permite acciones con el Navegador predeterminado\n",
    "- Juega con las Url del Navegador Predeterminado"
   ]
  },
  {
   "attachments": {},
   "cell_type": "markdown",
   "metadata": {},
   "source": [
    "### Ventanas y Pestañas"
   ]
  },
  {
   "cell_type": "code",
   "execution_count": null,
   "metadata": {},
   "outputs": [],
   "source": [
    "import webbrowser\n",
    "\n",
    "# URL que deseas abrir en el navegador\n",
    "url = \"https://www.ejemplo.com\"\n",
    "\n",
    "# Abre la URL en el navegador predeterminado\n",
    "# webbrowser.open(url, new=0, autoraise=True)\n",
    "webbrowser.open(url)\n",
    "\n",
    "\n",
    "webbrowser.open_new('http://www.python.org')\n",
    "webbrowser.open_new_tab('http://www.python.org')\n"
   ]
  },
  {
   "cell_type": "code",
   "execution_count": null,
   "metadata": {},
   "outputs": [],
   "source": [
    "import webbrowser\n",
    "\n",
    "url1 = \"https://www.google.com\"\n",
    "url2 = \"https://www.youtube.org\"\n",
    "\n",
    "webbrowser.open(url1, new=2)  # Open in a new tab\n",
    "webbrowser.open(url2, new=1)  # Open in a new window"
   ]
  },
  {
   "cell_type": "code",
   "execution_count": null,
   "metadata": {},
   "outputs": [],
   "source": [
    "print(\"hOLA\")"
   ]
  },
  {
   "attachments": {},
   "cell_type": "markdown",
   "metadata": {},
   "source": [
    "### Navegador Especifico"
   ]
  },
  {
   "cell_type": "code",
   "execution_count": null,
   "metadata": {},
   "outputs": [],
   "source": [
    "import webbrowser\n",
    "\n",
    "# webbrowser.get(using=None)\n",
    "# webbrowser.get('firefox')\n",
    "\n",
    "url = \"https://www.example.com\"\n",
    "browser = webbrowser.get(\"chrome\")\n",
    "browser.open(url)"
   ]
  },
  {
   "cell_type": "code",
   "execution_count": null,
   "metadata": {},
   "outputs": [],
   "source": [
    "import webbrowser\n",
    "\n",
    "url = \"https://www.example.com\"\n",
    "try:\n",
    "    browser = webbrowser.get(\"chrome\")\n",
    "    browser.open(url)\n",
    "except webbrowser.Error:\n",
    "    print(\"Could not find the specified browser. Opening in default browser.\")\n",
    "    webbrowser.open(url)"
   ]
  }
 ],
 "metadata": {
  "kernelspec": {
   "display_name": "Python 3",
   "language": "python",
   "name": "python3"
  },
  "language_info": {
   "codemirror_mode": {
    "name": "ipython",
    "version": 3
   },
   "file_extension": ".py",
   "mimetype": "text/x-python",
   "name": "python",
   "nbconvert_exporter": "python",
   "pygments_lexer": "ipython3",
   "version": "3.11.3"
  },
  "orig_nbformat": 4
 },
 "nbformat": 4,
 "nbformat_minor": 2
}
