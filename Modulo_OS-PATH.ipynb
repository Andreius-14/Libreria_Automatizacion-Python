{
 "cells": [
  {
   "attachments": {},
   "cell_type": "markdown",
   "metadata": {},
   "source": [
    "### Basico Rutas"
   ]
  },
  {
   "cell_type": "code",
   "execution_count": null,
   "metadata": {},
   "outputs": [],
   "source": [
    "import os \n",
    "from pathlib import Path\n",
    "\n",
    "# Ruta - Padre Ruta\n",
    "RUTA1 = os.getcwd()\n",
    "RUTA2 = Path.cwd()\n",
    "\n",
    "PADRE01 = Path(RUTA1).parent\n",
    "PADRE02 = os.path.dirname(RUTA2)\n",
    "\n",
    "print(f'Ruta: {RUTA1}\\nRuta: {RUTA2}\\n')\n",
    "print(f'Padre: {PADRE01} \\nPadre: {PADRE02}\\n')\n",
    "\n",
    "# ESPECIAL - Lista Array De Archivos\n",
    "print(os.listdir())\n",
    "\n",
    "# Metadata - Archivo [Rutas]\n",
    "FILE_1 = Path('/path/to/file.txt').name      # Output: \"file.txt\"\n",
    "FILE_2 = Path(\"/path/to/file.txt\").stem      # Output: \"file\"\n",
    "FILE_3 = Path(\"/path/to/file.txt\").suffix    # Output: \".txt\"\n",
    "\n",
    "RUTA11 = Path('Mario.html').resolve()       # Output: \"Ruta actual + Name\" \n",
    "\n",
    "# Lo siguiente hace lo mismo que FILE_1 y RUTA11 [Obsoleto y Largo]\n",
    "#RUTA10 = os.path.basename('/document/maria.txt')  # Output: \"maria.txt\"\n",
    "#RUTA11 = os.path.abspath('maria/maria.html')      # -> Ruta actual + Name\n",
    "print(RUTA11)"
   ]
  },
  {
   "attachments": {},
   "cell_type": "markdown",
   "metadata": {},
   "source": [
    "# Archivos y Documentos"
   ]
  },
  {
   "attachments": {},
   "cell_type": "markdown",
   "metadata": {},
   "source": [
    "**<center>🌱 Crear e Eliminar  🌱 Mover e Renombrar [OS]</center>**"
   ]
  },
  {
   "cell_type": "code",
   "execution_count": null,
   "metadata": {},
   "outputs": [],
   "source": [
    "import os\n",
    "from pathlib import Path\n",
    "\n",
    "# Métodos de OS\n",
    "\n",
    "# Crear Directorio/Directorios/Archivo\n",
    "os.mkdir(\"nuevo_directorio\")\n",
    "os.makedirs(\"Directorio/carpetal/carpeta2\")\n",
    "os.mknod(\"mi_archivo.txt\")\n",
    "\n",
    "# Eliminar Directorio/Archivo\n",
    "os.rmdir(\"directorio_a_eliminar\")\n",
    "os.unlink(\"archivo_a_eliminar.txt\")\n",
    "os.remove(\"archivo_a_eliminar.txt\")\n",
    "\n",
    "# Renombrar -- Directorio/Archivo\n",
    "os.rename(\"file.txt\", \"nuevo_nombre.txt\")\n",
    "\n",
    "# Mover -- Archivo a otra Ubicación\n",
    "os.replace(\"file.txt\", \"/ruta/file.txt\")"
   ]
  },
  {
   "attachments": {},
   "cell_type": "markdown",
   "metadata": {},
   "source": [
    "**<center>🌱 Crear e Eliminar  🌱 Mover e Renombrar [PATH]</center>**"
   ]
  },
  {
   "cell_type": "code",
   "execution_count": null,
   "metadata": {},
   "outputs": [],
   "source": [
    "import os\n",
    "from pathlib import Path\n",
    "\n",
    "# Métodos de pathlib\n",
    "\n",
    "# Crear -- directorio/Directorios/archivo\n",
    "Path(\"Directorio\").mkdir()\n",
    "Path('Folderl/Folder2' ).mkdir(exist_ok=True)\n",
    "\n",
    "# Eliminar Directorio/Archivo\n",
    "Path(\"Directorio-Vacio\").rmdir()\n",
    "Path(\"Directorio-Lleno\").rmtree( )\n",
    "Path(\"archivo.txt\").unlink()\n",
    " \n",
    "\n",
    "# Renombrar Directorio/Archivo\n",
    "Path( \"archivo.txt\").rename(\"nombre. txt\")\n",
    "\n",
    "# Mover un archivo a otra ubicacion\n",
    "Path(\"archivo_a_mover.txt\").replace(\"/ruta/de/destino/archivo_a_mover.txt\")"
   ]
  },
  {
   "cell_type": "code",
   "execution_count": null,
   "metadata": {},
   "outputs": [],
   "source": [
    "# Archivos - Js FS\n",
    "open(\"nuevo_archivo.txt\", \"w\").close()\n"
   ]
  },
  {
   "attachments": {},
   "cell_type": "markdown",
   "metadata": {},
   "source": [
    "# Rutas"
   ]
  },
  {
   "attachments": {},
   "cell_type": "markdown",
   "metadata": {},
   "source": [
    "**<center>🌱 Basic - Lista file   [OS] [PATH]</center>**"
   ]
  },
  {
   "cell_type": "code",
   "execution_count": null,
   "metadata": {},
   "outputs": [],
   "source": [
    "import os\n",
    "from pathlib import Path\n",
    "\n",
    "# Ruta Directorio\n",
    "current_dir = os.getcwd()\n",
    "current_dir = Path.cwd()\n",
    "\n",
    "# Ruta Directorio - Padre\n",
    "_padre = Path(current_dir).parent       # [Path]\n",
    "_padre = os.path.dirname(current_dir)   # [OS]\n",
    "\n",
    "# Metadata [Path] [OS]\n",
    "Path('os.py').stem          #Name\n",
    "Path('os.py').suffix        #Extension\n",
    "\n",
    "file_name, file_ext = os.path.splitext(file_path)\n",
    "\n",
    "# Ruta\n",
    "filename = os.path.basename('.') # Ruta\n",
    "abs_path = os.path.abspath('.') # Ruta Adsoluta\n",
    "\n",
    "Path('Archivo').resolve()   # Ruta Adsoluta\n",
    "Path('Ruta').name           # Archivo al Final de Ruta\n",
    "\n",
    "\"\"\" lista de archivos y directorios \"\"\"\n",
    "os.listdir() #[OS] #['os.py', 'os,ipynb']\n"
   ]
  },
  {
   "attachments": {},
   "cell_type": "markdown",
   "metadata": {},
   "source": [
    "**<center>🌱 La fusion de Rutas   [OS] [PATH]</center>**"
   ]
  },
  {
   "cell_type": "code",
   "execution_count": null,
   "metadata": {},
   "outputs": [],
   "source": [
    "import os\n",
    "from pathlib import Path, PurePath\n",
    "\n",
    "# Unir dos rutas\n",
    "joined = os.path.join('/home/user', 'documents', 'text.txt')\n",
    "joined = Path('/home/user').joinpath( 'documents').joinpath( 'text.txt')\n",
    "\n",
    "\n",
    "# Suma join y mkdir\n",
    "ruta_OS = os.path.join( 'Dataset-1','Script-1', 'malada' )\n",
    "os.makedirs(ruta_OS)\n",
    "\n",
    "PurePath.joinpath(\"url_PATH\", 'Dataser2', 'Script2').mkdir(parents=True)"
   ]
  },
  {
   "attachments": {},
   "cell_type": "markdown",
   "metadata": {},
   "source": [
    "# Archivos y Documentos - Rutas"
   ]
  },
  {
   "cell_type": "code",
   "execution_count": null,
   "metadata": {},
   "outputs": [],
   "source": [
    "#🌱 Boolenanos [OS]\n",
    "\n",
    "import os\n",
    "\n",
    "# Bool - Existencia archivo/directorio\n",
    "exists = os.path.exists('mi_archivo.txt')   #true\n",
    "exists = os.path.exists( 'prueba' )         #true\n",
    "\n",
    "# Bool - Es ruta absoluta\n",
    "is_absolute = os.path.isabs('/ruta/absoluta') #true\n",
    "is_relative = os.path.isabs('ruta/relativa')\n",
    "\n",
    "# Bool - Es Directorio\n",
    "is_dir = os.path.isdir( 'mi_directorio' )\n",
    "\n",
    "# Bool - Es Archivo\n",
    "is_file = os.path.isfile( 'mi_archivo.txt' )"
   ]
  },
  {
   "cell_type": "code",
   "execution_count": null,
   "metadata": {},
   "outputs": [],
   "source": [
    "# 🌱 Boolenanos [PAHT]\n",
    "\n",
    "from pathlib import Path\n",
    "\n",
    "path = Path(\"mi_archivo.txt\")\n",
    "\n",
    "# Bool - archivo o directorio existe\n",
    "print(path.exists()) # Output: True o False\n",
    "\n",
    "# Bool - es un directorio\n",
    "print(path.is_dir()) # Output: False\n",
    "\n",
    "# Bool - es un archivo\n",
    "print(path.is_file()) # Output: True\n",
    "\n",
    "# Bool - es un enlace simbélico\n",
    "print(path.is_symlink()) # Output: False\n",
    "\n",
    "# Bool - es un punto de montaje\n",
    "print(path.is_mount()) # Output: False"
   ]
  }
 ],
 "metadata": {
  "language_info": {
   "name": "python"
  },
  "orig_nbformat": 4
 },
 "nbformat": 4,
 "nbformat_minor": 2
}
